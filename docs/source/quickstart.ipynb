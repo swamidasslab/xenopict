{
 "cells": [
  {
   "cell_type": "markdown",
   "id": "def0600a",
   "metadata": {},
   "source": [
    "# Quickstart"
   ]
  },
  {
   "cell_type": "markdown",
   "id": "a28064fa",
   "metadata": {
    "papermill": {
     "duration": null,
     "end_time": null,
     "exception": null,
     "start_time": null,
     "status": "completed"
    },
    "tags": []
   },
   "source": [
    "Xenopict is a python library for depicting molecules.\n"
   ]
  },
  {
   "cell_type": "markdown",
   "id": "e35cea85",
   "metadata": {},
   "source": [
    "## Installation\n",
    "\n",
    "Xenopict installs from pypi.\n",
    "\n",
    "```console\n",
    "pip install xenopict\n",
    "```\n",
    "\n",
    "The package is only tested on Python 3.10 and 3.9. It may run on earlier versions of python, but we do not intend to maintain compatibility.\n"
   ]
  },
  {
   "cell_type": "markdown",
   "id": "ec51c047",
   "metadata": {},
   "source": [
    "## Reading in a Molecule\n",
    "\n",
    "The main entrypoint to xenopict is the Xenopict class, which is initialized with a small molecule. The class can take a SMILES String"
   ]
  },
  {
   "cell_type": "code",
   "execution_count": null,
   "id": "6577aaf0",
   "metadata": {},
   "outputs": [],
   "source": [
    "from xenopict import Xenopict     \n",
    "mol = Xenopict('O=C(O)Cc1ccccc1Nc1c(Cl)cccc1Cl')"
   ]
  },
  {
   "cell_type": "markdown",
   "id": "10d52921",
   "metadata": {},
   "source": [
    "It can also be initialized with a RDKit mol."
   ]
  },
  {
   "cell_type": "code",
   "execution_count": null,
   "id": "fb6a88c1",
   "metadata": {},
   "outputs": [],
   "source": [
    "from rdkit import Chem\n",
    "mol = Chem.MolFromSmiles('O=C(O)Cc1ccccc1Nc1c(Cl)cccc1Cl')\n",
    "diclofenac = mol = Xenopict(mol)"
   ]
  },
  {
   "cell_type": "markdown",
   "id": "6da089c0",
   "metadata": {},
   "source": [
    "Now that a molecule is loaded, we can display it easily in a notebook."
   ]
  },
  {
   "cell_type": "code",
   "execution_count": null,
   "id": "94ff7b31",
   "metadata": {},
   "outputs": [],
   "source": [
    "from xenopict import magic # the magic package enables several integrations with notebooks\n",
    "mol"
   ]
  },
  {
   "cell_type": "markdown",
   "id": "165c14fa",
   "metadata": {},
   "source": [
    "## Atom and Bond Shading\n",
    "\n",
    "Xenopict can shade molecules by with an intensity, which can range from 0 to 1 for sequential colormaps, and -1 to 1 for diverging colormaps. This shading is  implemented in concise vector graphics. Xenosite produces an SVG, which can be accessed with the 'to_svg' method.\n",
    "\n",
    "To demonstrate, we will shade a molecule by its absolute partial charge [0 to 1], which we compute from the RDKit library. Each atom is assigned a number in a vector."
   ]
  },
  {
   "cell_type": "code",
   "execution_count": null,
   "id": "6cf03923",
   "metadata": {},
   "outputs": [],
   "source": [
    "import rdkit.Chem.rdPartialCharges\n",
    "import numpy as np\n",
    "rdkit.Chem.rdPartialCharges.ComputeGasteigerCharges(mol.mol)\n",
    "shading = np.array([a.GetDoubleProp(\"_GasteigerCharge\")  for a in mol.GetAtoms()])\n",
    "shading = abs(shading / abs(shading).max() ) # partial charge (scaled to [0, 1])\n",
    "shading"
   ]
  },
  {
   "cell_type": "markdown",
   "id": "e566213b",
   "metadata": {},
   "source": [
    "The shading is applied to molecule using the \"shade\" method. The \"halo\" method adds a halo effect that aids visibility. "
   ]
  },
  {
   "cell_type": "code",
   "execution_count": null,
   "id": "20142454",
   "metadata": {
    "papermill": {
     "duration": null,
     "end_time": null,
     "exception": null,
     "start_time": null,
     "status": "completed"
    },
    "tags": []
   },
   "outputs": [],
   "source": [
    "Xenopict(mol).shade(shading).halo()\n"
   ]
  },
  {
   "cell_type": "markdown",
   "id": "c6e1314e",
   "metadata": {},
   "source": [
    "We can shade molecules by bond too. To demonstrate, we will create a shading vector for bonds that is the average absolute charge of the atom at each end. "
   ]
  },
  {
   "cell_type": "code",
   "execution_count": null,
   "id": "ee5fbf5a",
   "metadata": {
    "papermill": {
     "duration": null,
     "end_time": null,
     "exception": null,
     "start_time": null,
     "status": "completed"
    },
    "tags": []
   },
   "outputs": [],
   "source": [
    "a1 = [b.GetBeginAtomIdx() for b in mol.GetBonds()]\n",
    "a2 = [b.GetEndAtomIdx() for b in mol.GetBonds()]\n",
    "bshading = (shading[a1] + shading[a2])  / 2\n",
    "bshading"
   ]
  },
  {
   "cell_type": "code",
   "execution_count": null,
   "id": "a7fdaa85",
   "metadata": {},
   "outputs": [],
   "source": [
    "Xenopict(mol).shade(bond_shading=(a1, a2, bshading)).halo()"
   ]
  },
  {
   "cell_type": "markdown",
   "id": "2b97c8a2",
   "metadata": {},
   "source": [
    "Atoms and bonds can be shaded together at the same time."
   ]
  },
  {
   "cell_type": "code",
   "execution_count": null,
   "id": "18bf0ae9",
   "metadata": {
    "papermill": {
     "duration": null,
     "end_time": null,
     "exception": null,
     "start_time": null,
     "status": "completed"
    },
    "tags": []
   },
   "outputs": [],
   "source": [
    "x = Xenopict(mol).shade(shading, bond_shading=(a1, a2, bshading)).halo()\n",
    "x"
   ]
  },
  {
   "cell_type": "markdown",
   "id": "7ea174aa",
   "metadata": {},
   "source": [
    "## Marking, Shading and Focusing Substructures\n",
    "\n",
    "At times we want to mark a substructure. We can do so by supplying a list of atom idxs."
   ]
  },
  {
   "cell_type": "code",
   "execution_count": null,
   "id": "ede56cf0",
   "metadata": {
    "papermill": {
     "duration": null,
     "end_time": null,
     "exception": null,
     "start_time": null,
     "status": "completed"
    },
    "tags": []
   },
   "outputs": [],
   "source": [
    "x.mark_substructure([0,1,2,3])"
   ]
  },
  {
   "cell_type": "markdown",
   "id": "cf99f2e5",
   "metadata": {},
   "source": [
    "We can also shade substructures, by specifying them as lists of IDs, wiht a list of shading values. Substructures with intensities closer to zero are painted behind those with higher intensities. "
   ]
  },
  {
   "cell_type": "code",
   "execution_count": null,
   "id": "9f501b6a",
   "metadata": {
    "papermill": {
     "duration": null,
     "end_time": null,
     "exception": null,
     "start_time": null,
     "status": "completed"
    },
    "tags": []
   },
   "outputs": [],
   "source": [
    "substr1 = [0,1,2,3]\n",
    "substr2 = [7,8,9,10]\n",
    "substr3 = [3,4,5,9]\n",
    "\n",
    "shading = [1.0, 0.5, 0.6]\n",
    "\n",
    "Xenopict(mol).shade_substructure([substr1, substr2, substr3], shading)\n",
    "\n"
   ]
  },
  {
   "cell_type": "markdown",
   "id": "de1500e4",
   "metadata": {},
   "source": [
    "By default, xenopict adds in all the bonds joining a group of atoms. But sometimes this includes\n",
    "bonds that were not wanted. Substructures can be more precisely specified by including a list of bonds. "
   ]
  },
  {
   "cell_type": "code",
   "execution_count": null,
   "id": "c71c993d",
   "metadata": {},
   "outputs": [],
   "source": [
    "mol = Chem.MolFromSmiles(\"c1ccccc1CCC\")\n",
    "\n",
    "atoms = [0,1,2,3,4,5]\n",
    "bonds = [[0,1], [2,1], [2,3], [3,4],[4, 5], [5,6]]\n",
    "\n",
    "Xenopict(mol).shade_substructure([atoms], [1.0]), \\\n",
    "Xenopict(mol).shade_substructure([atoms], [1.0], [bonds])\n"
   ]
  },
  {
   "cell_type": "markdown",
   "id": "63479f62",
   "metadata": {},
   "source": [
    "Alongside shadings or alternately to them, we can also depict a substructure in isolation."
   ]
  },
  {
   "cell_type": "code",
   "execution_count": null,
   "id": "187da6c5",
   "metadata": {
    "papermill": {
     "duration": null,
     "end_time": null,
     "exception": null,
     "start_time": null,
     "status": "completed"
    },
    "tags": []
   },
   "outputs": [],
   "source": [
    "Xenopict(mol).substructure_focus(atoms), \\\n",
    "Xenopict(mol).substructure_focus(atoms, bonds)"
   ]
  },
  {
   "cell_type": "markdown",
   "id": "00d11575",
   "metadata": {},
   "source": [
    "## Adding Atom Indices\n",
    "\n",
    "Molecules can be drawn with indices too."
   ]
  },
  {
   "cell_type": "code",
   "execution_count": null,
   "id": "c865e990",
   "metadata": {},
   "outputs": [],
   "source": [
    "x = Xenopict(mol,scale=30,  add_atom_indices=True)\n",
    "x"
   ]
  },
  {
   "cell_type": "markdown",
   "id": "62b1606f",
   "metadata": {},
   "source": [
    "Atom IDs are carried over to substructure depictions, but they are not filtered out yet."
   ]
  },
  {
   "cell_type": "code",
   "execution_count": null,
   "id": "237ef89f",
   "metadata": {},
   "outputs": [],
   "source": [
    "x.substructure_focus([4,5,6])"
   ]
  }
 ],
 "metadata": {
  "kernelspec": {
   "display_name": "Python 3.9.13 ('python-3.9.13': venv)",
   "language": "python",
   "name": "python3"
  },
  "language_info": {
   "codemirror_mode": {
    "name": "ipython",
    "version": 3
   },
   "file_extension": ".py",
   "mimetype": "text/x-python",
   "name": "python",
   "nbconvert_exporter": "python",
   "pygments_lexer": "ipython3",
   "version": "3.9.13"
  },
  "papermill": {
   "default_parameters": {},
   "duration": 0.748298,
   "end_time": "2022-09-14T04:05:26.563041",
   "environment_variables": {},
   "exception": null,
   "input_path": "notebook/examples.ipynb",
   "output_path": "notebook/examples.ipynb",
   "parameters": {},
   "start_time": "2022-09-14T04:05:25.814743",
   "version": "2.4.0"
  },
  "vscode": {
   "interpreter": {
    "hash": "143a15f4a739dbea7028c21e201bc46e95e8f642f0ca20920c2c5746ba100d6d"
   }
  }
 },
 "nbformat": 4,
 "nbformat_minor": 5
}
